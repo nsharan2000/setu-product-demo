{
  "nbformat": 4,
  "nbformat_minor": 0,
  "metadata": {
    "colab": {
      "name": "Setu-product-demo.ipynb",
      "provenance": [],
      "authorship_tag": "ABX9TyMEywHDifLumBAw0Hh+0iW+",
      "include_colab_link": true
    },
    "kernelspec": {
      "name": "python3",
      "display_name": "Python 3"
    },
    "language_info": {
      "name": "python"
    }
  },
  "cells": [
    {
      "cell_type": "markdown",
      "metadata": {
        "id": "view-in-github",
        "colab_type": "text"
      },
      "source": [
        "<a href=\"https://colab.research.google.com/github/nsharan2000/setu-product-demo/blob/main/Setu_product_demo.ipynb\" target=\"_parent\"><img src=\"https://colab.research.google.com/assets/colab-badge.svg\" alt=\"Open In Colab\"/></a>"
      ]
    },
    {
      "cell_type": "code",
      "execution_count": 2,
      "metadata": {
        "id": "fjROFp0mTSPV"
      },
      "outputs": [],
      "source": [
        "import numpy as np\n",
        "import pandas as pd"
      ]
    },
    {
      "cell_type": "code",
      "source": [
        "stock = pd.read_csv(\"/content/drug-stock-list.csv\")"
      ],
      "metadata": {
        "id": "9U-kgEWHTlHm"
      },
      "execution_count": 3,
      "outputs": []
    },
    {
      "cell_type": "code",
      "source": [
        "stock = stock.set_index('Product-ID', drop = False)\n",
        "stock.head()"
      ],
      "metadata": {
        "colab": {
          "base_uri": "https://localhost:8080/",
          "height": 237
        },
        "id": "qEHTvXM4TqP_",
        "outputId": "7e7ccdf1-9a84-486c-e5b4-1d2cb3ffb3e3"
      },
      "execution_count": 4,
      "outputs": [
        {
          "output_type": "execute_result",
          "data": {
            "text/html": [
              "<div>\n",
              "<style scoped>\n",
              "    .dataframe tbody tr th:only-of-type {\n",
              "        vertical-align: middle;\n",
              "    }\n",
              "\n",
              "    .dataframe tbody tr th {\n",
              "        vertical-align: top;\n",
              "    }\n",
              "\n",
              "    .dataframe thead th {\n",
              "        text-align: right;\n",
              "    }\n",
              "</style>\n",
              "<table border=\"1\" class=\"dataframe\">\n",
              "  <thead>\n",
              "    <tr style=\"text-align: right;\">\n",
              "      <th></th>\n",
              "      <th>Product-ID</th>\n",
              "      <th>Medicines</th>\n",
              "      <th>Category</th>\n",
              "      <th>Price</th>\n",
              "      <th>Type</th>\n",
              "      <th>Strengths</th>\n",
              "      <th>Quantity</th>\n",
              "      <th>Warehouse-location</th>\n",
              "    </tr>\n",
              "    <tr>\n",
              "      <th>Product-ID</th>\n",
              "      <th></th>\n",
              "      <th></th>\n",
              "      <th></th>\n",
              "      <th></th>\n",
              "      <th></th>\n",
              "      <th></th>\n",
              "      <th></th>\n",
              "      <th></th>\n",
              "    </tr>\n",
              "  </thead>\n",
              "  <tbody>\n",
              "    <tr>\n",
              "      <th>1</th>\n",
              "      <td>1</td>\n",
              "      <td>Acetyl Salicylic Acid</td>\n",
              "      <td>P, S, T</td>\n",
              "      <td>280</td>\n",
              "      <td>Tablets</td>\n",
              "      <td>325mg, 350  mg</td>\n",
              "      <td>76</td>\n",
              "      <td>Chennai</td>\n",
              "    </tr>\n",
              "    <tr>\n",
              "      <th>2</th>\n",
              "      <td>2</td>\n",
              "      <td>Diclofenac</td>\n",
              "      <td>T</td>\n",
              "      <td>640</td>\n",
              "      <td>Tablets</td>\n",
              "      <td>50 mg</td>\n",
              "      <td>479</td>\n",
              "      <td>Chennai</td>\n",
              "    </tr>\n",
              "    <tr>\n",
              "      <th>3</th>\n",
              "      <td>3</td>\n",
              "      <td>Ibuprofen</td>\n",
              "      <td>P, S, T</td>\n",
              "      <td>580</td>\n",
              "      <td>Powder</td>\n",
              "      <td>200 mg, 400 mg</td>\n",
              "      <td>154</td>\n",
              "      <td>Chennai</td>\n",
              "    </tr>\n",
              "    <tr>\n",
              "      <th>4</th>\n",
              "      <td>4</td>\n",
              "      <td>Paracetamol</td>\n",
              "      <td>P, S, T</td>\n",
              "      <td>940</td>\n",
              "      <td>Tablets</td>\n",
              "      <td>500 mg</td>\n",
              "      <td>576</td>\n",
              "      <td>Chennai</td>\n",
              "    </tr>\n",
              "    <tr>\n",
              "      <th>5</th>\n",
              "      <td>5</td>\n",
              "      <td>Morphine Sulphate</td>\n",
              "      <td>S</td>\n",
              "      <td>310</td>\n",
              "      <td>Syringe</td>\n",
              "      <td>10 mg</td>\n",
              "      <td>305</td>\n",
              "      <td>Chennai</td>\n",
              "    </tr>\n",
              "  </tbody>\n",
              "</table>\n",
              "</div>"
            ],
            "text/plain": [
              "            Product-ID              Medicines  ... Quantity  Warehouse-location\n",
              "Product-ID                                     ...                             \n",
              "1                    1  Acetyl Salicylic Acid  ...       76             Chennai\n",
              "2                    2             Diclofenac  ...      479             Chennai\n",
              "3                    3              Ibuprofen  ...      154             Chennai\n",
              "4                    4            Paracetamol  ...      576             Chennai\n",
              "5                    5      Morphine Sulphate  ...      305             Chennai\n",
              "\n",
              "[5 rows x 8 columns]"
            ]
          },
          "metadata": {},
          "execution_count": 4
        }
      ]
    },
    {
      "cell_type": "code",
      "source": [
        "stock.info()"
      ],
      "metadata": {
        "colab": {
          "base_uri": "https://localhost:8080/"
        },
        "id": "ezKmWPcMTsCY",
        "outputId": "97865015-6eaf-48c7-aa90-65779c0086a7"
      },
      "execution_count": 5,
      "outputs": [
        {
          "output_type": "stream",
          "name": "stdout",
          "text": [
            "<class 'pandas.core.frame.DataFrame'>\n",
            "Int64Index: 12 entries, 1 to 12\n",
            "Data columns (total 8 columns):\n",
            " #   Column              Non-Null Count  Dtype \n",
            "---  ------              --------------  ----- \n",
            " 0   Product-ID          12 non-null     int64 \n",
            " 1   Medicines           12 non-null     object\n",
            " 2   Category            12 non-null     object\n",
            " 3   Price               12 non-null     int64 \n",
            " 4   Type                12 non-null     object\n",
            " 5   Strengths           12 non-null     object\n",
            " 6   Quantity            12 non-null     int64 \n",
            " 7   Warehouse-location  12 non-null     object\n",
            "dtypes: int64(3), object(5)\n",
            "memory usage: 864.0+ bytes\n"
          ]
        }
      ]
    },
    {
      "cell_type": "code",
      "source": [
        "stock['Medicines'][1]"
      ],
      "metadata": {
        "colab": {
          "base_uri": "https://localhost:8080/",
          "height": 35
        },
        "id": "3qPTat6GTuw0",
        "outputId": "024f52da-1b78-43e0-fa86-9d2c49c207d4"
      },
      "execution_count": 6,
      "outputs": [
        {
          "output_type": "execute_result",
          "data": {
            "application/vnd.google.colaboratory.intrinsic+json": {
              "type": "string"
            },
            "text/plain": [
              "'Acetyl Salicylic Acid'"
            ]
          },
          "metadata": {},
          "execution_count": 6
        }
      ]
    },
    {
      "cell_type": "code",
      "source": [
        "print(\"-------------100 DAYS OF FEATURE REQUEST-------------\")\n",
        "print(\"-------------     SAWO LABS X SETU      -------------\")\n",
        "print(\"---------Enter the Product-ID of the 3 pills---------\\n\")\n",
        "a=int(input(\"product 1 ID : \"))\n",
        "anum=int(input(\"product 1 Qty: \"))\n",
        "b=int(input(\"product 2 ID : \"))\n",
        "bnum=int(input(\"product 1 Qty: \"))\n",
        "c=int(input(\"product 3 ID : \"))\n",
        "cnum=int(input(\"product 3 Qty: \"))\n",
        "\n",
        "if(a not in stock['Product-ID'] or b not in stock['Product-ID'] or c not in stock['Product-ID']):\n",
        "  print(\"Product ID does not exist please check again\\n\")\n",
        "\n",
        "print(\"\\nYou have chosen :\")\n",
        "print(f\"{'Name' : <20} {'Type' : ^20} {'Qty Available' : ^15} {'Qty needed' : ^10} {'Cost' : ^10}\")\n",
        "print(f\"{stock['Medicines'][a] : <20} {stock['Type'][a] : ^20} {stock['Quantity'][a] : ^15} {anum : ^10} {stock['Price'][a] : ^10}\")\n",
        "print(f\"{stock['Medicines'][b] : <20} {stock['Type'][b] : ^20} {stock['Quantity'][b] : ^15} {bnum : ^10} {stock['Price'][b] : ^10}\")\n",
        "print(f\"{stock['Medicines'][c] : <20} {stock['Type'][c] : ^20} {stock['Quantity'][c] : ^15} {cnum : ^10} {stock['Price'][c] : ^10}\")\n",
        "print(\"Total cost : Rs\", anum*stock['Price'][a]+bnum*stock['Price'][b]+cnum*stock['Price'][c],\"\\n\\n\" )\n",
        "if(stock['Quantity'][a] < anum or stock['Quantity'][b] < bnum or stock['Quantity'][c] < cnum):\n",
        "  print('stock not available. Check for alternative!!!\\n\\n')\n",
        "  print(exit)\n",
        "  exit()\n",
        "else:\n",
        "  print('Stock available!')\n",
        "\n",
        "if(stock['Type'][a] =='Tablets' and stock['Type'][b] =='Tablets' and stock['Type'][c] =='Tablets'):\n",
        "  print(\"Pill pack possible!\")\n",
        "  if(stock['Warehouse-location'][a]==stock['Warehouse-location'][b] and stock['Warehouse-location'][a]==stock['Warehouse-location'][c]):\n",
        "    print(\"All pills are present in the same warehouse!\")\n",
        "  else:\n",
        "    print(\"All pills are not present in the same warehouse!\")\n",
        "else:\n",
        "  print(\"All items are not in the form of a Pill. \\nPill pack is not possible! Need to send individual medicines to the user\")\n"
      ],
      "metadata": {
        "colab": {
          "base_uri": "https://localhost:8080/"
        },
        "id": "SEhKwLYcUQXi",
        "outputId": "ae95ad13-e897-460c-fb73-3339f0a85142"
      },
      "execution_count": 9,
      "outputs": [
        {
          "output_type": "stream",
          "name": "stdout",
          "text": [
            "-------------100 DAYS OF FEATURE REQUEST-------------\n",
            "-------------     SAWO LABS X SETU      -------------\n",
            "---------Enter the Product-ID of the 3 pills---------\n",
            "\n",
            "product 1 ID : 1\n",
            "product 1 Qty: 10\n",
            "product 2 ID : 4\n",
            "product 1 Qty: 20\n",
            "product 3 ID : 2\n",
            "product 3 Qty: 5\n",
            "\n",
            "You have chosen :\n",
            "Name                         Type          Qty Available  Qty needed    Cost   \n",
            "Acetyl Salicylic Acid       Tablets              76            10        280    \n",
            "Paracetamol                Tablets              576           20        940    \n",
            "Diclofenac                 Tablets              479           5         640    \n",
            "Total cost : Rs 24800 \n",
            "\n",
            "\n",
            "Stock available!\n",
            "Pill pack possible!\n",
            "All pills are present in the same warehouse!\n"
          ]
        }
      ]
    },
    {
      "cell_type": "code",
      "source": [
        ""
      ],
      "metadata": {
        "id": "BxYZja2nbGYZ"
      },
      "execution_count": 7,
      "outputs": []
    }
  ]
}